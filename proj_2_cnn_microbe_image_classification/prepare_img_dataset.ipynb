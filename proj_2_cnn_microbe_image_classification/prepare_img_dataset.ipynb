{
 "cells": [
  {
   "cell_type": "markdown",
   "metadata": {},
   "source": [
    "## Prepare Image Data"
   ]
  },
  {
   "cell_type": "code",
   "execution_count": 3,
   "metadata": {
    "collapsed": false
   },
   "outputs": [],
   "source": [
    "# load data from mat files\n",
    "\n",
    "import scipy.io as sio\n",
    "import os\n",
    "import numpy as np\n",
    "import matplotlib.pyplot as plt\n",
    "from six.moves import cPickle as pickle\n",
    "import h5py\n",
    "f = h5py.File('crypto_expanded.mat')\n",
    "\n",
    "%matplotlib inline"
   ]
  },
  {
   "cell_type": "code",
   "execution_count": 35,
   "metadata": {
    "collapsed": false
   },
   "outputs": [],
   "source": [
    "giardia_data = h5py.File('giardia_expanded.mat')\n",
    "giardia_rotate = np.array(giardia_data['giardia_rotate'])\n",
    "giardia_flip_rotate = np.array(giardia_data['giardia_flip_rotate'])\n",
    "giardia_rotate = np.transpose(giardia_rotate, (2, 0, 1))\n",
    "giardia_flip_rotate = np.transpose(giardia_flip_rotate, (2, 0, 1))\n",
    "\n",
    "defects_data = h5py.File('defects_expanded.mat')\n",
    "defects_rotate = np.array(defects_data['defects_rotate'])\n",
    "defects_flip_rotate = np.array(defects_data['defects_flip_rotate'])\n",
    "defects_rotate = np.transpose(defects_rotate, (2, 0, 1))\n",
    "defects_flip_rotate = np.transpose(defects_flip_rotate, (2, 0, 1))\n",
    "\n",
    "crypto_data = h5py.File('crypto_expanded.mat')\n",
    "crypto_rotate = np.array(crypto_data['crypto_rotate'])\n",
    "crypto_flip_rotate = np.array(crypto_data['crypto_flip_rotate'])\n",
    "crypto_rotate = np.transpose(crypto_rotate, (2, 0, 1))\n",
    "crypto_flip_rotate = np.transpose(crypto_flip_rotate, (2, 0, 1))"
   ]
  },
  {
   "cell_type": "code",
   "execution_count": 48,
   "metadata": {
    "collapsed": false
   },
   "outputs": [],
   "source": [
    "# combine rotate and flip_rotate data and prepare labels\n",
    "giardia_data = np.concatenate((giardia_rotate, giardia_flip_rotate), axis=0)\n",
    "giardia_label = np.array([[1, 0, 0],] * len(giardia_data))\n",
    "\n",
    "defects_data = np.concatenate((defects_rotate, defects_flip_rotate), axis=0)\n",
    "defects_label = np.array([[0, 1, 0],] * len(defects_data))\n",
    "\n",
    "crypto_data = np.concatenate((crypto_rotate, crypto_flip_rotate), axis=0)\n",
    "crypto_label = np.array([[0, 0, 1],] * len(crypto_data))"
   ]
  },
  {
   "cell_type": "code",
   "execution_count": 49,
   "metadata": {
    "collapsed": true
   },
   "outputs": [],
   "source": [
    "# delete redundant variables to free memory \n",
    "del giardia_rotate\n",
    "del giardia_flip_rotate\n",
    "del defects_rotate\n",
    "del defects_flip_rotate\n",
    "del crypto_rotate\n",
    "del crypto_flip_rotate"
   ]
  },
  {
   "cell_type": "code",
   "execution_count": 77,
   "metadata": {
    "collapsed": true
   },
   "outputs": [],
   "source": [
    "# combine everything and shuffle to create training set, test set and validation set\n",
    "data_combined = np.concatenate((giardia_data, defects_data, crypto_data), axis=0)\n",
    "label_combined = np.concatenate((giardia_label, defects_label, crypto_label), axis=0)"
   ]
  },
  {
   "cell_type": "code",
   "execution_count": 51,
   "metadata": {
    "collapsed": false
   },
   "outputs": [
    {
     "data": {
      "text/plain": [
       "(29664, 200, 200)"
      ]
     },
     "execution_count": 51,
     "metadata": {},
     "output_type": "execute_result"
    }
   ],
   "source": [
    "data_combined.shape"
   ]
  },
  {
   "cell_type": "code",
   "execution_count": 52,
   "metadata": {
    "collapsed": false
   },
   "outputs": [
    {
     "data": {
      "text/plain": [
       "(29664, 3)"
      ]
     },
     "execution_count": 52,
     "metadata": {},
     "output_type": "execute_result"
    }
   ],
   "source": [
    "label_combined.shape"
   ]
  },
  {
   "cell_type": "code",
   "execution_count": 79,
   "metadata": {
    "collapsed": false
   },
   "outputs": [],
   "source": [
    "from sklearn.utils import shuffle\n",
    "data_combined, label_combined = shuffle(data_combined, label_combined, random_state=4)"
   ]
  },
  {
   "cell_type": "code",
   "execution_count": 80,
   "metadata": {
    "collapsed": false
   },
   "outputs": [
    {
     "data": {
      "text/plain": [
       "(29664, 200, 200)"
      ]
     },
     "execution_count": 80,
     "metadata": {},
     "output_type": "execute_result"
    }
   ],
   "source": [
    "data_combined.shape"
   ]
  },
  {
   "cell_type": "code",
   "execution_count": 81,
   "metadata": {
    "collapsed": false
   },
   "outputs": [
    {
     "data": {
      "text/plain": [
       "(29664, 3)"
      ]
     },
     "execution_count": 81,
     "metadata": {},
     "output_type": "execute_result"
    }
   ],
   "source": [
    "label_combined.shape"
   ]
  },
  {
   "cell_type": "code",
   "execution_count": 84,
   "metadata": {
    "collapsed": false
   },
   "outputs": [
    {
     "name": "stderr",
     "output_type": "stream",
     "text": [
      "C:\\Tools\\Anaconda3\\lib\\site-packages\\sklearn\\cross_validation.py:44: DeprecationWarning: This module was deprecated in version 0.18 in favor of the model_selection module into which all the refactored classes and functions are moved. Also note that the interface of the new CV iterators are different from that of this module. This module will be removed in 0.20.\n",
      "  \"This module will be removed in 0.20.\", DeprecationWarning)\n"
     ]
    }
   ],
   "source": [
    "from sklearn.cross_validation import train_test_split\n",
    "\n",
    "x_train, x_test, y_train, y_test = train_test_split(data_combined, label_combined, test_size=0.3)\n",
    "x_test, x_val, y_test, y_val = train_test_split(x_test, y_test, test_size=0.5)"
   ]
  },
  {
   "cell_type": "code",
   "execution_count": 88,
   "metadata": {
    "collapsed": false
   },
   "outputs": [
    {
     "data": {
      "text/plain": [
       "(20764, 200, 200)"
      ]
     },
     "execution_count": 88,
     "metadata": {},
     "output_type": "execute_result"
    }
   ],
   "source": [
    "x_train.shape"
   ]
  },
  {
   "cell_type": "code",
   "execution_count": 89,
   "metadata": {
    "collapsed": false
   },
   "outputs": [
    {
     "data": {
      "text/plain": [
       "(4450, 200, 200)"
      ]
     },
     "execution_count": 89,
     "metadata": {},
     "output_type": "execute_result"
    }
   ],
   "source": [
    "x_test.shape"
   ]
  },
  {
   "cell_type": "code",
   "execution_count": 90,
   "metadata": {
    "collapsed": true
   },
   "outputs": [],
   "source": [
    "del data_combined\n",
    "del label_combined"
   ]
  },
  {
   "cell_type": "code",
   "execution_count": 91,
   "metadata": {
    "collapsed": false,
    "scrolled": true
   },
   "outputs": [
    {
     "name": "stdout",
     "output_type": "stream",
     "text": [
      "Compressed pickle size: 9492836486\n"
     ]
    }
   ],
   "source": [
    "pickle_file = 'Image_data.pickle'\n",
    "\n",
    "try:\n",
    "  f = open(pickle_file, 'wb')\n",
    "  save = {\n",
    "    'train_dataset': x_train,\n",
    "    'train_labels': y_train,\n",
    "    'valid_dataset': x_val,\n",
    "    'valid_labels': y_val,\n",
    "    'test_dataset': x_test,\n",
    "    'test_labels': y_test,\n",
    "    }\n",
    "  pickle.dump(save, f, pickle.HIGHEST_PROTOCOL)\n",
    "  f.close()\n",
    "except Exception as e:\n",
    "  print('Unable to save data to', pickle_file, ':', e)\n",
    "  raise\n",
    "\n",
    "statinfo = os.stat(pickle_file)\n",
    "print('Compressed pickle size:', statinfo.st_size)"
   ]
  }
 ],
 "metadata": {
  "anaconda-cloud": {},
  "kernelspec": {
   "display_name": "Python [conda root]",
   "language": "python",
   "name": "conda-root-py"
  },
  "language_info": {
   "codemirror_mode": {
    "name": "ipython",
    "version": 3
   },
   "file_extension": ".py",
   "mimetype": "text/x-python",
   "name": "python",
   "nbconvert_exporter": "python",
   "pygments_lexer": "ipython3",
   "version": "3.5.2"
  }
 },
 "nbformat": 4,
 "nbformat_minor": 2
}
